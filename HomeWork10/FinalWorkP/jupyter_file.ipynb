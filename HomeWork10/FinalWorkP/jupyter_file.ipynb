{
 "cells": [
  {
   "cell_type": "code",
   "execution_count": null,
   "id": "5adade14",
   "metadata": {},
   "outputs": [],
   "source": [
    "f(x) = 0.6x^3+5.5x^2+10x -5"
   ]
  },
  {
   "cell_type": "code",
   "execution_count": 147,
   "id": "1568db0b",
   "metadata": {},
   "outputs": [],
   "source": [
    "import math\n",
    "import numpy as np\n",
    "import matplotlib.pyplot as plt\n",
    "import matplotlib.ticker as ticker"
   ]
  },
  {
   "cell_type": "code",
   "execution_count": 149,
   "id": "e7e07474",
   "metadata": {},
   "outputs": [],
   "source": [
    "limit = 2\n",
    "step = 0.1\n",
    "increase_high = True\n",
    "color = 'r'\n",
    "line_style = '-'"
   ]
  },
  {
   "cell_type": "code",
   "execution_count": 137,
   "id": "3fe85089",
   "metadata": {},
   "outputs": [],
   "source": [
    "x_change = {-limit: 'inc'}\n",
    "\n",
    "x = np.arange(-limit, limit, step)"
   ]
  },
  {
   "cell_type": "code",
   "execution_count": 138,
   "id": "5e8663c8",
   "metadata": {},
   "outputs": [],
   "source": [
    "a, b, c, d = 0.6, 5.5, 10, -5"
   ]
  },
  {
   "cell_type": "code",
   "execution_count": 139,
   "id": "bfaa79b3",
   "metadata": {},
   "outputs": [],
   "source": [
    "def f(x):\n",
    "    y = a*x**3 + b*x**2 + c*x + d\n",
    "    return y"
   ]
  },
  {
   "cell_type": "code",
   "execution_count": 140,
   "id": "2fe12eba",
   "metadata": {},
   "outputs": [],
   "source": [
    "def switch_color():\n",
    "    global color\n",
    "    if color == 'r':\n",
    "        color = 'b'\n",
    "    else:\n",
    "        color = 'r'\n",
    "    return color"
   ]
  },
  {
   "cell_type": "code",
   "execution_count": 151,
   "id": "75aa276b",
   "metadata": {},
   "outputs": [],
   "source": [
    "def switch_line():\n",
    "    global line_style\n",
    "    if line_style == '-.':\n",
    "        line_style = '-'\n",
    "    else:\n",
    "        line_style = '-.'\n",
    "    return line_style"
   ]
  },
  {
   "cell_type": "code",
   "execution_count": 142,
   "id": "ae02e361",
   "metadata": {},
   "outputs": [],
   "source": [
    "x_min = -limit\n",
    "f_min = f(-limit)"
   ]
  },
  {
   "cell_type": "code",
   "execution_count": 143,
   "id": "a2bff647",
   "metadata": {},
   "outputs": [
    {
     "name": "stdout",
     "output_type": "stream",
     "text": [
      "-1.1 -10.14\n"
     ]
    }
   ],
   "source": [
    "for x_cur in x:\n",
    "    if f(x_cur) < f_min:\n",
    "        f_min = np.round(f(x_cur), 2)\n",
    "        x_min = np.round(x_cur, 2)\n",
    "print(x_min, f_min)"
   ]
  },
  {
   "cell_type": "code",
   "execution_count": 144,
   "id": "22e6b0fa",
   "metadata": {},
   "outputs": [],
   "source": [
    "for i  in range(len(x)-1):\n",
    "    if (f(x[i]) > 0 and f(x[i+1]) < 0) or (f(x[i]) < 0 and f(x[i+1]) > 0):\n",
    "        x_change[x[i]] = 'zero'\n",
    "    if increase_high:\n",
    "        if f(x[i]) > f(x[i+1]):\n",
    "            increase_high = False\n",
    "            x_change[x[i]] = 'inc'\n",
    "    else:\n",
    "        if f(x[i]) < f(x[i+1]):\n",
    "            increase_high = True\n",
    "            x_change[x[i]] = 'inc'\n",
    "\n",
    "x_change[limit] = 'inc'"
   ]
  },
  {
   "cell_type": "code",
   "execution_count": 145,
   "id": "ed849b67",
   "metadata": {},
   "outputs": [
    {
     "name": "stdout",
     "output_type": "stream",
     "text": [
      "[-2, -1.0999999999999992, 0.40000000000000213, 2]\n"
     ]
    }
   ],
   "source": [
    "x_keys = [x for x in x_change]\n",
    "x_keys.sort()\n",
    "print(x_keys)"
   ]
  },
  {
   "cell_type": "code",
   "execution_count": 152,
   "id": "5eebe16d",
   "metadata": {
    "scrolled": true
   },
   "outputs": [
    {
     "data": {
      "image/png": "[encoded data removed]",
      "text/plain": [
       "<Figure size 640x480 with 1 Axes>"
      ]
     },
     "metadata": {},
     "output_type": "display_data"
    }
   ],
   "source": [
    "for i in range(len(x_keys) - 1):\n",
    "    x_cur = np.arange(x_keys[i], x_keys[i+1] + step, step)\n",
    "    if x_change.get(x_keys[i]) == 'zero':\n",
    "        switch_line()\n",
    "    else:\n",
    "        switch_color()\n",
    "    plt.rcParams['lines.linestyle'] = line_style\n",
    "    plt.tick_params(axis='both', which='major', labelsize=6)\n",
    "    plt.grid(True)\n",
    "    plt.plot(x_cur, f(x_cur), color)\n",
    "ax = plt.gca()\n",
    "ax.yaxis.set_major_locator(ticker.MultipleLocator(10))\n",
    "ax.yaxis.set_minor_locator(ticker.MultipleLocator(1))\n",
    "ax.spines.left.set_position('zero')\n",
    "ax.spines.bottom.set_position('zero')\n",
    "ax.spines['top'].set_visible(False)\n",
    "ax.spines['right'].set_visible(False)\n",
    "plt.show()"
   ]
  }
 ],
 "metadata": {
  "kernelspec": {
   "display_name": "Python 3 (ipykernel)",
   "language": "python",
   "name": "python3"
  },
  "language_info": {
   "codemirror_mode": {
    "name": "ipython",
    "version": 3
   },
   "file_extension": ".py",
   "mimetype": "text/x-python",
   "name": "python",
   "nbconvert_exporter": "python",
   "pygments_lexer": "ipython3",
   "version": "3.11.0"
  }
 },
 "nbformat": 4,
 "nbformat_minor": 5
}
